{
 "cells": [
  {
   "cell_type": "code",
   "execution_count": 132,
   "metadata": {},
   "outputs": [],
   "source": [
    "import pandas as pd\n",
    "import numpy as np\n",
    "from ckiptagger import WS, POS, NER\n",
    "import re"
   ]
  },
  {
   "cell_type": "code",
   "execution_count": 136,
   "metadata": {},
   "outputs": [],
   "source": [
    "# ETL1\n",
    "df =pd.read_excel('200801to202008falutTypes.xlsx')\n",
    "colNameZh = [_.split('\\n')[0] for _ in df.columns]\n",
    "colNameEng = [_.split('\\n')[1] for _ in df.columns]\n",
    "df.columns = colNameEng\n",
    "\n",
    "# filter NA\n",
    "df = df[df['CE_Comment'].notna()] # 缺失內容非空 (22483, 9)\n",
    "df = df[ df['CE_Comment'].apply(lambda x: pd.to_numeric(x, errors='coerce')).isna() ] # 缺失內容非單一數字 (22481, 9)\n",
    "df = df[df['CE_Item2'].notna()] # 條非空 (15198, 9)\n",
    "df.to_csv('data_ETL1.csv',index=False)\n",
    "del df"
   ]
  },
  {
   "cell_type": "code",
   "execution_count": 172,
   "metadata": {},
   "outputs": [],
   "source": [
    "# ETL2-1: retrive punctuation\n",
    "import re\n",
    "import pickle\n",
    "df = pd.read_csv('data_ETL1.csv')\n",
    "\n",
    "punctuation = list()\n",
    "for i, s in enumerate(df['CE_Comment']):\n",
    "    s = re.findall(r'[^\\u4e00-\\u9fff]+', s)\n",
    "    s = ''.join(s)\n",
    "    s = re.findall(r'[^\\w]+', s)\n",
    "    s = ''.join(s)\n",
    "    punctuation = punctuation + list(s)\n",
    "else:\n",
    "    punctuation = set(punctuation)\n",
    "    pickle.dump(punctuation, open('punctuation.pkl', 'wb'))"
   ]
  },
  {
   "cell_type": "code",
   "execution_count": 182,
   "metadata": {},
   "outputs": [],
   "source": [
    "# ETL2-2: tokenized by ckip, delimiter by puncuation\n",
    "from ckiptagger import WS, POS, NER\n",
    "from ckiptagger import data_utils, construct_dictionary\n",
    "path = \"./ckip\"\n",
    "ws = WS(path)\n",
    "# pos = POS(path)\n",
    "# ner = NER(path)\n",
    "\n",
    "df = pd.read_csv('data_ETL1.csv')\n",
    "punctuation = pickle.load(open('punctuation.pkl', 'rb'))\n",
    "word_s = ws(df['CE_Comment'],\n",
    "            sentence_segmentation=True,\n",
    "            segment_delimiter_set=punctuation)"
   ]
  },
  {
   "cell_type": "code",
   "execution_count": 184,
   "metadata": {},
   "outputs": [],
   "source": [
    "df['token'] =['@'.join(_) for _ in word_s]"
   ]
  },
  {
   "cell_type": "code",
   "execution_count": 176,
   "metadata": {},
   "outputs": [],
   "source": [
    "df.to_csv('data_ETL2.csv', index=False)"
   ]
  }
 ],
 "metadata": {
  "kernelspec": {
   "display_name": "Python 3",
   "language": "python",
   "name": "python3"
  },
  "language_info": {
   "codemirror_mode": {
    "name": "ipython",
    "version": 3
   },
   "file_extension": ".py",
   "mimetype": "text/x-python",
   "name": "python",
   "nbconvert_exporter": "python",
   "pygments_lexer": "ipython3",
   "version": "3.8.2"
  }
 },
 "nbformat": 4,
 "nbformat_minor": 4
}
